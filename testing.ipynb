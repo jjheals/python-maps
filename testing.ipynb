{
 "cells": [
  {
   "cell_type": "markdown",
   "metadata": {},
   "source": [
    "## Folium"
   ]
  },
  {
   "cell_type": "markdown",
   "metadata": {},
   "source": [
    "Folium creates interactive maps rendered with HTML pages."
   ]
  },
  {
   "cell_type": "markdown",
   "metadata": {},
   "source": [
    "**Creating a map with popups & tooltips for pins**"
   ]
  },
  {
   "cell_type": "code",
   "execution_count": 8,
   "metadata": {},
   "outputs": [],
   "source": [
    "import json\n",
    "import folium\n",
    "from folium import IFrame\n",
    "from PopupTable import PopupTable\n",
    "import random"
   ]
  },
  {
   "cell_type": "code",
   "execution_count": 9,
   "metadata": {},
   "outputs": [],
   "source": [
    "# Get 300 random IPs from the dummy data\n",
    "ips:list[str] = []\n",
    "with open('dummy_data/ips.json', 'r') as file:\n",
    "    tmp:list[str] = json.load(file)\n",
    "    ips = random.sample(tmp, 300)"
   ]
  },
  {
   "cell_type": "code",
   "execution_count": null,
   "metadata": {},
   "outputs": [],
   "source": [
    "# Lookup the locations of the 300 IPs"
   ]
  },
  {
   "cell_type": "code",
   "execution_count": 3,
   "metadata": {},
   "outputs": [],
   "source": [
    "\n",
    "# Create a map\n",
    "m = folium.Map(\n",
    "    location=[45.5236, -122.6750], \n",
    "    zoom_start=13, \n",
    "    min_zoom=3,\n",
    "    max_bounds=True,\n",
    "    tiles='CartoDB dark_matter'\n",
    ")\n",
    "\n",
    "# Define the bounds\n",
    "bounds = [[-85, -180], [85, 180]]\n",
    "\n",
    "# Set the max bounds\n",
    "m.fit_bounds(bounds)\n",
    "\n",
    "# Create a PopupTable object for the popup content \n",
    "popup_headers:list[str] = [\n",
    "    'Header 1',\n",
    "    'Header 2',\n",
    "    'Header 3'\n",
    "]\n",
    "\n",
    "popups:dict[str, dict] = {\n",
    "    'popup-1': {\n",
    "        'headers': popup_headers,\n",
    "        'rows': [\n",
    "            ['(1) Row 1, cell 1', 'Row 1, cell 2', 'Row 1, cell 3'],\n",
    "            ['Row  2, cell 1', 'Row 2, cell 2', 'Row 2, cell 3'],\n",
    "            ['Row  3, cell 1', 'Row 3, cell 2', 'Row 3, cell 3'],\n",
    "        ],\n",
    "        'lat': 45.5236,\n",
    "        'long': -122.6750,\n",
    "    },\n",
    "    'popup-2': {\n",
    "        'headers': popup_headers,\n",
    "        'rows': [\n",
    "            ['(2) Row 1, cell 1', 'Row 1, cell 2', 'Row 1, cell 3'],\n",
    "            ['Row  2, cell 1', 'Row 2, cell 2', 'Row 2, cell 3'],\n",
    "            ['Row  3, cell 1', 'Row 3, cell 2', 'Row 3, cell 3'],\n",
    "        ],\n",
    "        'lat': 45.5286,\n",
    "        'long': -122.6650\n",
    "    },\n",
    "    'popup-3': {\n",
    "        'headers': popup_headers,\n",
    "        'rows': [\n",
    "            ['(3) Row 1, cell 1', 'Row 1, cell 2', 'Row 1, cell 3'],\n",
    "            ['Row  2, cell 1', 'Row 2, cell 2', 'Row 2, cell 3'],\n",
    "            ['Row  3, cell 1', 'Row 3, cell 2', 'Row 3, cell 3'],\n",
    "        ],\n",
    "        'lat': 45.5156,\n",
    "        'long': -122.6850\n",
    "    }\n",
    "}\n",
    "\n",
    "# Add markers to the map with custom icons\n",
    "for popup_name,v in popups.items():\n",
    "    \n",
    "    # Create a PopupTable elm for this popup\n",
    "    popup_table:PopupTable = PopupTable(v['headers'], v['rows'])\n",
    "    \n",
    "    # Create the folium Popup elm for the marker \n",
    "    folium_popup:folium.Popup = folium.Popup(popup_table.to_iframe(), max_width=400)\n",
    "    \n",
    "    # Create the folium Marker and add it to the map\n",
    "    folium.Marker(\n",
    "        [v['lat'], v['long']],\n",
    "        popup=folium_popup,\n",
    "        tooltip=popup_name,\n",
    "    ).add_to(m)\n",
    "\n",
    "# Save the map\n",
    "m.save('map_with_table_popup.html')\n"
   ]
  }
 ],
 "metadata": {
  "kernelspec": {
   "display_name": "Python 3",
   "language": "python",
   "name": "python3"
  },
  "language_info": {
   "codemirror_mode": {
    "name": "ipython",
    "version": 3
   },
   "file_extension": ".py",
   "mimetype": "text/x-python",
   "name": "python",
   "nbconvert_exporter": "python",
   "pygments_lexer": "ipython3",
   "version": "3.11.1"
  }
 },
 "nbformat": 4,
 "nbformat_minor": 2
}
